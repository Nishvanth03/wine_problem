{
 "cells": [
  {
   "cell_type": "code",
   "execution_count": 1,
   "id": "8a1aa208-3988-4c5d-be22-578b52434deb",
   "metadata": {},
   "outputs": [],
   "source": [
    "import os \n",
    "\n",
    "import pandas as pd"
   ]
  },
  {
   "cell_type": "code",
   "execution_count": 2,
   "id": "87c563b3-fe0c-49dc-98b8-cd94a79fd2ec",
   "metadata": {},
   "outputs": [],
   "source": [
    "df = pd.read_csv(\"../data_given/winequality.csv\")"
   ]
  },
  {
   "cell_type": "code",
   "execution_count": 3,
   "id": "c8e012cc-7068-4666-9850-f0735f8d9b2e",
   "metadata": {},
   "outputs": [
    {
     "data": {
      "text/plain": [
       "Index(['fixed acidity', 'volatile acidity', 'citric acid', 'residual sugar',\n",
       "       'chlorides', 'free sulfur dioxide', 'total sulfur dioxide', 'density',\n",
       "       'pH', 'sulphates', 'alcohol', 'TARGET'],\n",
       "      dtype='object')"
      ]
     },
     "execution_count": 3,
     "metadata": {},
     "output_type": "execute_result"
    }
   ],
   "source": [
    "df.columns\n"
   ]
  },
  {
   "cell_type": "code",
   "execution_count": 15,
   "id": "11018b98-9c84-41e3-9104-f61c24cb5a04",
   "metadata": {},
   "outputs": [],
   "source": [
    "over = df.describe()"
   ]
  },
  {
   "cell_type": "code",
   "execution_count": 16,
   "id": "8c94a2c8-231e-4efa-b9d6-cb72e3345595",
   "metadata": {},
   "outputs": [],
   "source": [
    "over.loc[[\"min\",\"max\"]].to_json(\"schema_in.json\")"
   ]
  },
  {
   "cell_type": "code",
   "execution_count": 19,
   "id": "d5c24f8f-7a7d-44d5-959d-322ad6b73970",
   "metadata": {},
   "outputs": [],
   "source": [
    "class NotInRange(Exception): \n",
    "    def __init__(self,input,message=\"value not in range\"): \n",
    "        self.input = input \n",
    "        self.message = message \n",
    "        super().__init__(self.message)"
   ]
  },
  {
   "cell_type": "code",
   "execution_count": 20,
   "id": "298f050c-c141-4623-bc98-a7eb50076fe8",
   "metadata": {},
   "outputs": [
    {
     "ename": "TypeError",
     "evalue": "NotInRange.__init__() missing 1 required positional argument: 'input'",
     "output_type": "error",
     "traceback": [
      "\u001b[1;31m------------------------------------------------\u001b[0m",
      "\u001b[1;31mTypeError\u001b[0m      Traceback (most recent call last)",
      "Cell \u001b[1;32mIn[20], line 1\u001b[0m\n\u001b[1;32m----> 1\u001b[0m \u001b[38;5;28;01mraise\u001b[39;00m NotInRange\n",
      "\u001b[1;31mTypeError\u001b[0m: NotInRange.__init__() missing 1 required positional argument: 'input'"
     ]
    }
   ],
   "source": [
    "raise NotInRange"
   ]
  },
  {
   "cell_type": "code",
   "execution_count": null,
   "id": "3bc59e7a-2650-4edb-88a9-fb767122d6c6",
   "metadata": {},
   "outputs": [],
   "source": []
  }
 ],
 "metadata": {
  "kernelspec": {
   "display_name": "Python 3 (ipykernel)",
   "language": "python",
   "name": "python3"
  },
  "language_info": {
   "codemirror_mode": {
    "name": "ipython",
    "version": 3
   },
   "file_extension": ".py",
   "mimetype": "text/x-python",
   "name": "python",
   "nbconvert_exporter": "python",
   "pygments_lexer": "ipython3",
   "version": "3.12.2"
  }
 },
 "nbformat": 4,
 "nbformat_minor": 5
}
